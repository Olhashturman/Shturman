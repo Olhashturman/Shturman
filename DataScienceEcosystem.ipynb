{
 "cells": [
  {
   "cell_type": "markdown",
   "id": "b3567f4d",
   "metadata": {},
   "source": [
    "# Data Science Tools and Ecosystem "
   ]
  },
  {
   "cell_type": "markdown",
   "id": "bf3fb779",
   "metadata": {},
   "source": [
    "In this notebook, Data Science Tools and Ecosystem are summarized."
   ]
  },
  {
   "cell_type": "markdown",
   "id": "d64e5405",
   "metadata": {},
   "source": [
    "Some of the popular languages that Data Scientists use are:\n",
    "\n",
    "1. Python\n",
    "2. R\n",
    "3. LavaScript"
   ]
  },
  {
   "cell_type": "markdown",
   "id": "f0d42086",
   "metadata": {},
   "source": [
    "**Objectives:**\n",
    "\n",
    "* The capabilities of R and its uses in Data Science.\n",
    "\n",
    "* The RStudio interface for running R codes. \n",
    "\n",
    "* Popular R packages for Data Science.\n",
    "\n",
    "* Popular data visualization packages in R.\n",
    "\n",
    "* Plotting with the inbuilt R plot function.\n",
    "\n",
    "* Plotting with ggplot.\n",
    "\n",
    "* Adding titles and changing the axis names using the ggtitle and lab’s function.\n",
    "\n",
    "* A Distributed Version Control System (DVCS) keeps track of changes to code, regardless of where it is stored. \n",
    "\n"
   ]
  },
  {
   "cell_type": "markdown",
   "id": "773d9bb3",
   "metadata": {},
   "source": [
    "Some of the commonly used libraries used by Data Scientists include:\n",
    "\n",
    "1. TensorFlow.\n",
    "2. NumPy.\n",
    "3. SciPy.\n",
    "4. Pandas.\n",
    "5. Matplotlib.\n",
    "6. Keras."
   ]
  },
  {
   "cell_type": "markdown",
   "id": "71f3a7e9",
   "metadata": {},
   "source": [
    "| Data Science Tools |\n",
    "|--------------------|\n",
    "| RStudio            |\n",
    "| Apache Spark       |\n",
    "| TesorFlow          |\n"
   ]
  },
  {
   "cell_type": "markdown",
   "id": "e311e4ef",
   "metadata": {},
   "source": [
    "### Below are a few examples of evaluating arithmetic expressions in Python. \n",
    "$Ax^2 + Bx + C = 0$"
   ]
  },
  {
   "cell_type": "code",
   "execution_count": 15,
   "id": "4d675c40",
   "metadata": {},
   "outputs": [
    {
     "data": {
      "text/plain": [
       "17"
      ]
     },
     "execution_count": 15,
     "metadata": {},
     "output_type": "execute_result"
    }
   ],
   "source": [
    "# This a simple arithmetic expression to mutiply then add integers\n",
    "(3*4)+5"
   ]
  },
  {
   "cell_type": "code",
   "execution_count": 13,
   "id": "b9229e93",
   "metadata": {},
   "outputs": [
    {
     "data": {
      "text/plain": [
       "3.3333333333333335"
      ]
     },
     "execution_count": 13,
     "metadata": {},
     "output_type": "execute_result"
    }
   ],
   "source": [
    "# This will convert 200 minutes to hours by diving by 60\n",
    "200/60"
   ]
  },
  {
   "cell_type": "markdown",
   "id": "cf97692f",
   "metadata": {},
   "source": [
    "## Author\n",
    "Shturmarevych Olha "
   ]
  },
  {
   "cell_type": "code",
   "execution_count": null,
   "id": "4c83d4ea",
   "metadata": {},
   "outputs": [],
   "source": []
  }
 ],
 "metadata": {
  "kernelspec": {
   "display_name": "Python 3 (ipykernel)",
   "language": "python",
   "name": "python3"
  },
  "language_info": {
   "codemirror_mode": {
    "name": "ipython",
    "version": 3
   },
   "file_extension": ".py",
   "mimetype": "text/x-python",
   "name": "python",
   "nbconvert_exporter": "python",
   "pygments_lexer": "ipython3",
   "version": "3.11.3"
  }
 },
 "nbformat": 4,
 "nbformat_minor": 5
}
